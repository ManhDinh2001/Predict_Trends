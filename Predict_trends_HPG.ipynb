{
 "cells": [
  {
   "cell_type": "code",
   "execution_count": 8,
   "id": "4175e7c1-65b9-4fb0-849c-7ecdb7d75c51",
   "metadata": {},
   "outputs": [],
   "source": [
    "from neuralprophet import NeuralProphet"
   ]
  },
  {
   "cell_type": "code",
   "execution_count": 12,
   "id": "6a9102bb-ed1a-4395-b1f4-9fd8ab8d8e45",
   "metadata": {},
   "outputs": [],
   "source": [
    "from read_data_no_index import read_data\n",
    "import pandas as pd\n",
    "import matplotlib.pyplot as plt"
   ]
  },
  {
   "cell_type": "code",
   "execution_count": 18,
   "id": "eb499c92-a0b6-4d45-abe7-81bc45ceec37",
   "metadata": {},
   "outputs": [],
   "source": [
    "HPG=read_data('D:\\HPG.csv')"
   ]
  },
  {
   "cell_type": "code",
   "execution_count": 20,
   "id": "1b20e688-c8a6-4acd-894a-b8383a3ae098",
   "metadata": {},
   "outputs": [],
   "source": [
    "HPG=HPG[(HPG['Date'] >= '2018-01-01') & (HPG['Date'] <= '2024-06-21')]\n",
    "HPG=HPG[['Date','Close']]"
   ]
  },
  {
   "cell_type": "code",
   "execution_count": 22,
   "id": "6e4aa8a4-ea41-4dc7-8398-b8e71581a94f",
   "metadata": {},
   "outputs": [],
   "source": [
    "HPG.columns=['ds','y']"
   ]
  },
  {
   "cell_type": "markdown",
   "id": "08f01202-c0ce-43d9-a097-f91afea90842",
   "metadata": {},
   "source": [
    "# Train the Model"
   ]
  },
  {
   "cell_type": "code",
   "execution_count": 24,
   "id": "dabd72d3-3b74-473f-a4b7-b27f009b9041",
   "metadata": {},
   "outputs": [
    {
     "name": "stderr",
     "output_type": "stream",
     "text": [
      "WARNING - (NP.forecaster.fit) - When Global modeling with local normalization, metrics are displayed in normalized scale.\n",
      "INFO - (NP.df_utils._infer_frequency) - Major frequency B corresponds to 97.946% of the data.\n",
      "INFO - (NP.df_utils._infer_frequency) - Dataframe freq automatically defined as B\n",
      "INFO - (NP.config.init_data_params) - Setting normalization to global as only one dataframe provided for training.\n",
      "INFO - (NP.utils.set_auto_seasonalities) - Disabling daily seasonality. Run NeuralProphet with daily_seasonality=True to override this.\n",
      "INFO - (NP.config.set_auto_batch_epoch) - Auto-set batch_size to 32\n",
      "INFO - (NP.config.set_auto_batch_epoch) - Auto-set epochs to 100\n"
     ]
    },
    {
     "data": {
      "application/vnd.jupyter.widget-view+json": {
       "model_id": "c00801a0b5564063affd6f8a202588c7",
       "version_major": 2,
       "version_minor": 0
      },
      "text/plain": [
       "Training: |                                                                                      | 0/? [00:00<…"
      ]
     },
     "metadata": {},
     "output_type": "display_data"
    },
    {
     "name": "stderr",
     "output_type": "stream",
     "text": [
      "WARNING - (NP.config.set_lr_finder_args) - Learning rate finder: The number of batches (51) is too small than the required number                     for the learning rate finder (230). The results might not be optimal.\n"
     ]
    },
    {
     "data": {
      "application/vnd.jupyter.widget-view+json": {
       "model_id": "47f7b7f41e4340e5a0733eac00bb5eb5",
       "version_major": 2,
       "version_minor": 0
      },
      "text/plain": [
       "Finding best initial lr:   0%|          | 0/230 [00:00<?, ?it/s]"
      ]
     },
     "metadata": {},
     "output_type": "display_data"
    },
    {
     "name": "stderr",
     "output_type": "stream",
     "text": [
      "WARNING - (py.warnings._showwarnmsg) - D:\\Anaconda\\Lib\\site-packages\\pytorch_lightning\\utilities\\data.py:78: Trying to infer the `batch_size` from an ambiguous collection. The batch size we found is 32. To avoid any miscalculations, use `self.log(..., batch_size=batch_size)`.\n",
      "\n",
      "WARNING - (py.warnings._showwarnmsg) - D:\\Anaconda\\Lib\\site-packages\\pytorch_lightning\\utilities\\data.py:78: Trying to infer the `batch_size` from an ambiguous collection. The batch size we found is 7. To avoid any miscalculations, use `self.log(..., batch_size=batch_size)`.\n",
      "\n"
     ]
    },
    {
     "data": {
      "application/vnd.jupyter.widget-view+json": {
       "model_id": "73fb469c94f64213b539c3f14a0d2aaf",
       "version_major": 2,
       "version_minor": 0
      },
      "text/plain": [
       "Training: |                                                                                      | 0/? [00:00<…"
      ]
     },
     "metadata": {},
     "output_type": "display_data"
    },
    {
     "data": {
      "text/html": [
       "<div>\n",
       "<style scoped>\n",
       "    .dataframe tbody tr th:only-of-type {\n",
       "        vertical-align: middle;\n",
       "    }\n",
       "\n",
       "    .dataframe tbody tr th {\n",
       "        vertical-align: top;\n",
       "    }\n",
       "\n",
       "    .dataframe thead th {\n",
       "        text-align: right;\n",
       "    }\n",
       "</style>\n",
       "<table border=\"1\" class=\"dataframe\">\n",
       "  <thead>\n",
       "    <tr style=\"text-align: right;\">\n",
       "      <th></th>\n",
       "      <th>train_loss</th>\n",
       "      <th>reg_loss</th>\n",
       "      <th>MAE</th>\n",
       "      <th>RMSE</th>\n",
       "      <th>Loss</th>\n",
       "      <th>RegLoss</th>\n",
       "      <th>epoch</th>\n",
       "    </tr>\n",
       "  </thead>\n",
       "  <tbody>\n",
       "    <tr>\n",
       "      <th>0</th>\n",
       "      <td>1.168945</td>\n",
       "      <td>0.0</td>\n",
       "      <td>51694.437500</td>\n",
       "      <td>58426.738281</td>\n",
       "      <td>1.165244</td>\n",
       "      <td>0.0</td>\n",
       "      <td>0</td>\n",
       "    </tr>\n",
       "    <tr>\n",
       "      <th>1</th>\n",
       "      <td>0.705242</td>\n",
       "      <td>0.0</td>\n",
       "      <td>33535.062500</td>\n",
       "      <td>39611.964844</td>\n",
       "      <td>0.703083</td>\n",
       "      <td>0.0</td>\n",
       "      <td>1</td>\n",
       "    </tr>\n",
       "    <tr>\n",
       "      <th>2</th>\n",
       "      <td>0.314811</td>\n",
       "      <td>0.0</td>\n",
       "      <td>17721.285156</td>\n",
       "      <td>21650.554688</td>\n",
       "      <td>0.312671</td>\n",
       "      <td>0.0</td>\n",
       "      <td>2</td>\n",
       "    </tr>\n",
       "    <tr>\n",
       "      <th>3</th>\n",
       "      <td>0.130482</td>\n",
       "      <td>0.0</td>\n",
       "      <td>9688.380859</td>\n",
       "      <td>11195.510742</td>\n",
       "      <td>0.129633</td>\n",
       "      <td>0.0</td>\n",
       "      <td>3</td>\n",
       "    </tr>\n",
       "    <tr>\n",
       "      <th>4</th>\n",
       "      <td>0.103777</td>\n",
       "      <td>0.0</td>\n",
       "      <td>8407.569336</td>\n",
       "      <td>9766.362305</td>\n",
       "      <td>0.103469</td>\n",
       "      <td>0.0</td>\n",
       "      <td>4</td>\n",
       "    </tr>\n",
       "    <tr>\n",
       "      <th>...</th>\n",
       "      <td>...</td>\n",
       "      <td>...</td>\n",
       "      <td>...</td>\n",
       "      <td>...</td>\n",
       "      <td>...</td>\n",
       "      <td>...</td>\n",
       "      <td>...</td>\n",
       "    </tr>\n",
       "    <tr>\n",
       "      <th>95</th>\n",
       "      <td>0.004253</td>\n",
       "      <td>0.0</td>\n",
       "      <td>1304.697510</td>\n",
       "      <td>1688.405151</td>\n",
       "      <td>0.004258</td>\n",
       "      <td>0.0</td>\n",
       "      <td>95</td>\n",
       "    </tr>\n",
       "    <tr>\n",
       "      <th>96</th>\n",
       "      <td>0.004225</td>\n",
       "      <td>0.0</td>\n",
       "      <td>1308.045776</td>\n",
       "      <td>1702.435913</td>\n",
       "      <td>0.004278</td>\n",
       "      <td>0.0</td>\n",
       "      <td>96</td>\n",
       "    </tr>\n",
       "    <tr>\n",
       "      <th>97</th>\n",
       "      <td>0.004229</td>\n",
       "      <td>0.0</td>\n",
       "      <td>1296.954956</td>\n",
       "      <td>1693.974243</td>\n",
       "      <td>0.004238</td>\n",
       "      <td>0.0</td>\n",
       "      <td>97</td>\n",
       "    </tr>\n",
       "    <tr>\n",
       "      <th>98</th>\n",
       "      <td>0.004233</td>\n",
       "      <td>0.0</td>\n",
       "      <td>1305.507080</td>\n",
       "      <td>1695.706055</td>\n",
       "      <td>0.004269</td>\n",
       "      <td>0.0</td>\n",
       "      <td>98</td>\n",
       "    </tr>\n",
       "    <tr>\n",
       "      <th>99</th>\n",
       "      <td>0.004218</td>\n",
       "      <td>0.0</td>\n",
       "      <td>1310.537842</td>\n",
       "      <td>1700.971680</td>\n",
       "      <td>0.004246</td>\n",
       "      <td>0.0</td>\n",
       "      <td>99</td>\n",
       "    </tr>\n",
       "  </tbody>\n",
       "</table>\n",
       "<p>100 rows × 7 columns</p>\n",
       "</div>"
      ],
      "text/plain": [
       "    train_loss  reg_loss           MAE          RMSE      Loss  RegLoss  epoch\n",
       "0     1.168945       0.0  51694.437500  58426.738281  1.165244      0.0      0\n",
       "1     0.705242       0.0  33535.062500  39611.964844  0.703083      0.0      1\n",
       "2     0.314811       0.0  17721.285156  21650.554688  0.312671      0.0      2\n",
       "3     0.130482       0.0   9688.380859  11195.510742  0.129633      0.0      3\n",
       "4     0.103777       0.0   8407.569336   9766.362305  0.103469      0.0      4\n",
       "..         ...       ...           ...           ...       ...      ...    ...\n",
       "95    0.004253       0.0   1304.697510   1688.405151  0.004258      0.0     95\n",
       "96    0.004225       0.0   1308.045776   1702.435913  0.004278      0.0     96\n",
       "97    0.004229       0.0   1296.954956   1693.974243  0.004238      0.0     97\n",
       "98    0.004233       0.0   1305.507080   1695.706055  0.004269      0.0     98\n",
       "99    0.004218       0.0   1310.537842   1700.971680  0.004246      0.0     99\n",
       "\n",
       "[100 rows x 7 columns]"
      ]
     },
     "execution_count": 24,
     "metadata": {},
     "output_type": "execute_result"
    }
   ],
   "source": [
    "model = NeuralProphet()\n",
    "model.fit(HPG)"
   ]
  },
  {
   "cell_type": "markdown",
   "id": "d80709f8-817a-4622-ac36-dfa9cba2ccc1",
   "metadata": {},
   "source": [
    "# Evaluate the Model"
   ]
  },
  {
   "cell_type": "code",
   "execution_count": 26,
   "id": "171c8b1a-2eb8-41a1-9d38-a81891e251ad",
   "metadata": {},
   "outputs": [
    {
     "name": "stderr",
     "output_type": "stream",
     "text": [
      "INFO - (NP.df_utils._infer_frequency) - Major frequency B corresponds to 97.946% of the data.\n",
      "INFO - (NP.df_utils._infer_frequency) - Defined frequency is equal to major frequency - B\n",
      "INFO - (NP.df_utils.return_df_in_original_format) - Returning df with no ID column\n",
      "INFO - (NP.df_utils._infer_frequency) - Major frequency B corresponds to 99.5% of the data.\n",
      "INFO - (NP.df_utils._infer_frequency) - Defined frequency is equal to major frequency - B\n",
      "INFO - (NP.df_utils._infer_frequency) - Major frequency B corresponds to 99.5% of the data.\n",
      "INFO - (NP.df_utils._infer_frequency) - Defined frequency is equal to major frequency - B\n"
     ]
    },
    {
     "data": {
      "application/vnd.jupyter.widget-view+json": {
       "model_id": "a594f856ca814d82b2258419158dbf77",
       "version_major": 2,
       "version_minor": 0
      },
      "text/plain": [
       "Predicting: |                                                                                    | 0/? [00:00<…"
      ]
     },
     "metadata": {},
     "output_type": "display_data"
    },
    {
     "name": "stderr",
     "output_type": "stream",
     "text": [
      "INFO - (NP.df_utils.return_df_in_original_format) - Returning df with no ID column\n",
      "INFO - (NP.df_utils._infer_frequency) - Major frequency B corresponds to 97.946% of the data.\n",
      "INFO - (NP.df_utils._infer_frequency) - Defined frequency is equal to major frequency - B\n",
      "INFO - (NP.df_utils._infer_frequency) - Major frequency B corresponds to 97.946% of the data.\n",
      "INFO - (NP.df_utils._infer_frequency) - Defined frequency is equal to major frequency - B\n"
     ]
    },
    {
     "data": {
      "application/vnd.jupyter.widget-view+json": {
       "model_id": "c0ebcca92ee841e990660969e68129d1",
       "version_major": 2,
       "version_minor": 0
      },
      "text/plain": [
       "Predicting: |                                                                                    | 0/? [00:00<…"
      ]
     },
     "metadata": {},
     "output_type": "display_data"
    },
    {
     "name": "stderr",
     "output_type": "stream",
     "text": [
      "INFO - (NP.df_utils.return_df_in_original_format) - Returning df with no ID column\n"
     ]
    },
    {
     "data": {
      "image/png": "[encoded data removed]",
      "text/plain": [
       "<Figure size 640x480 with 1 Axes>"
      ]
     },
     "metadata": {},
     "output_type": "display_data"
    }
   ],
   "source": [
    "future = model.make_future_dataframe(HPG,periods=200)\n",
    "forecast = model.predict(future)\n",
    "actual_prediction=model.predict(HPG)\n",
    "plt.plot(actual_prediction['ds'],actual_prediction['yhat1'],label='Actual prediction',c='r')\n",
    "plt.plot(forecast['ds'],forecast['yhat1'],label='Future prediction',c='b')\n",
    "plt.plot(HPG['ds'],HPG['y'],label='Actual',c='g')\n",
    "plt.legend()\n",
    "plt.show()"
   ]
  },
  {
   "cell_type": "code",
   "execution_count": null,
   "id": "b5900374-5b8b-4cb2-b012-3c27cca542fe",
   "metadata": {},
   "outputs": [],
   "source": []
  }
 ],
 "metadata": {
  "kernelspec": {
   "display_name": "Python 3 (ipykernel)",
   "language": "python",
   "name": "python3"
  },
  "language_info": {
   "codemirror_mode": {
    "name": "ipython",
    "version": 3
   },
   "file_extension": ".py",
   "mimetype": "text/x-python",
   "name": "python",
   "nbconvert_exporter": "python",
   "pygments_lexer": "ipython3",
   "version": "3.11.7"
  }
 },
 "nbformat": 4,
 "nbformat_minor": 5
}
