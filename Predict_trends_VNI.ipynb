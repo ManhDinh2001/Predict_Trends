{
 "cells": [
  {
   "cell_type": "code",
   "execution_count": 4,
   "id": "4175e7c1-65b9-4fb0-849c-7ecdb7d75c51",
   "metadata": {},
   "outputs": [],
   "source": [
    "from neuralprophet import NeuralProphet"
   ]
  },
  {
   "cell_type": "code",
   "execution_count": 8,
   "id": "6a9102bb-ed1a-4395-b1f4-9fd8ab8d8e45",
   "metadata": {},
   "outputs": [],
   "source": [
    "from read_data_no_index import read_data\n",
    "import pandas as pd\n",
    "import matplotlib.pyplot as plt"
   ]
  },
  {
   "cell_type": "code",
   "execution_count": 10,
   "id": "eb499c92-a0b6-4d45-abe7-81bc45ceec37",
   "metadata": {},
   "outputs": [],
   "source": [
    "VNI=read_data('D:\\VNI.csv')"
   ]
  },
  {
   "cell_type": "code",
   "execution_count": 12,
   "id": "1b20e688-c8a6-4acd-894a-b8383a3ae098",
   "metadata": {},
   "outputs": [],
   "source": [
    "VNI=VNI[(VNI['Date'] >= '2018-01-01') & (VNI['Date'] <= '2024-06-21')]\n",
    "VNI=VNI[['Date','Close']]"
   ]
  },
  {
   "cell_type": "code",
   "execution_count": 14,
   "id": "6e4aa8a4-ea41-4dc7-8398-b8e71581a94f",
   "metadata": {},
   "outputs": [],
   "source": [
    "VNI.columns=['ds','y']"
   ]
  },
  {
   "cell_type": "markdown",
   "id": "08f01202-c0ce-43d9-a097-f91afea90842",
   "metadata": {},
   "source": [
    "# Train the Model"
   ]
  },
  {
   "cell_type": "code",
   "execution_count": 17,
   "id": "dabd72d3-3b74-473f-a4b7-b27f009b9041",
   "metadata": {},
   "outputs": [
    {
     "name": "stderr",
     "output_type": "stream",
     "text": [
      "WARNING - (NP.forecaster.fit) - When Global modeling with local normalization, metrics are displayed in normalized scale.\n",
      "INFO - (NP.df_utils._infer_frequency) - Major frequency B corresponds to 97.893% of the data.\n",
      "INFO - (NP.df_utils._infer_frequency) - Dataframe freq automatically defined as B\n",
      "INFO - (NP.config.init_data_params) - Setting normalization to global as only one dataframe provided for training.\n",
      "INFO - (NP.utils.set_auto_seasonalities) - Disabling daily seasonality. Run NeuralProphet with daily_seasonality=True to override this.\n",
      "INFO - (NP.config.set_auto_batch_epoch) - Auto-set batch_size to 32\n",
      "INFO - (NP.config.set_auto_batch_epoch) - Auto-set epochs to 100\n"
     ]
    },
    {
     "data": {
      "application/vnd.jupyter.widget-view+json": {
       "model_id": "5b52b22272f14a5084695c929abf2f48",
       "version_major": 2,
       "version_minor": 0
      },
      "text/plain": [
       "Training: |                                                                                      | 0/? [00:00<…"
      ]
     },
     "metadata": {},
     "output_type": "display_data"
    },
    {
     "name": "stderr",
     "output_type": "stream",
     "text": [
      "WARNING - (NP.config.set_lr_finder_args) - Learning rate finder: The number of batches (51) is too small than the required number                     for the learning rate finder (230). The results might not be optimal.\n"
     ]
    },
    {
     "data": {
      "application/vnd.jupyter.widget-view+json": {
       "model_id": "1322db4924fc42d0ad607a4c09867103",
       "version_major": 2,
       "version_minor": 0
      },
      "text/plain": [
       "Finding best initial lr:   0%|          | 0/230 [00:00<?, ?it/s]"
      ]
     },
     "metadata": {},
     "output_type": "display_data"
    },
    {
     "name": "stderr",
     "output_type": "stream",
     "text": [
      "WARNING - (py.warnings._showwarnmsg) - D:\\Anaconda\\Lib\\site-packages\\pytorch_lightning\\utilities\\data.py:78: Trying to infer the `batch_size` from an ambiguous collection. The batch size we found is 32. To avoid any miscalculations, use `self.log(..., batch_size=batch_size)`.\n",
      "\n",
      "WARNING - (py.warnings._showwarnmsg) - D:\\Anaconda\\Lib\\site-packages\\pytorch_lightning\\utilities\\data.py:78: Trying to infer the `batch_size` from an ambiguous collection. The batch size we found is 14. To avoid any miscalculations, use `self.log(..., batch_size=batch_size)`.\n",
      "\n"
     ]
    },
    {
     "data": {
      "application/vnd.jupyter.widget-view+json": {
       "model_id": "52863ef2c02b42d284960f98ce4b7c07",
       "version_major": 2,
       "version_minor": 0
      },
      "text/plain": [
       "Training: |                                                                                      | 0/? [00:00<…"
      ]
     },
     "metadata": {},
     "output_type": "display_data"
    },
    {
     "data": {
      "text/html": [
       "<div>\n",
       "<style scoped>\n",
       "    .dataframe tbody tr th:only-of-type {\n",
       "        vertical-align: middle;\n",
       "    }\n",
       "\n",
       "    .dataframe tbody tr th {\n",
       "        vertical-align: top;\n",
       "    }\n",
       "\n",
       "    .dataframe thead th {\n",
       "        text-align: right;\n",
       "    }\n",
       "</style>\n",
       "<table border=\"1\" class=\"dataframe\">\n",
       "  <thead>\n",
       "    <tr style=\"text-align: right;\">\n",
       "      <th></th>\n",
       "      <th>train_loss</th>\n",
       "      <th>reg_loss</th>\n",
       "      <th>MAE</th>\n",
       "      <th>RMSE</th>\n",
       "      <th>Loss</th>\n",
       "      <th>RegLoss</th>\n",
       "      <th>epoch</th>\n",
       "    </tr>\n",
       "  </thead>\n",
       "  <tbody>\n",
       "    <tr>\n",
       "      <th>0</th>\n",
       "      <td>0.357693</td>\n",
       "      <td>0.0</td>\n",
       "      <td>493.871582</td>\n",
       "      <td>594.446594</td>\n",
       "      <td>0.357090</td>\n",
       "      <td>0.0</td>\n",
       "      <td>0</td>\n",
       "    </tr>\n",
       "    <tr>\n",
       "      <th>1</th>\n",
       "      <td>0.207209</td>\n",
       "      <td>0.0</td>\n",
       "      <td>325.083527</td>\n",
       "      <td>390.094788</td>\n",
       "      <td>0.205816</td>\n",
       "      <td>0.0</td>\n",
       "      <td>1</td>\n",
       "    </tr>\n",
       "    <tr>\n",
       "      <th>2</th>\n",
       "      <td>0.090446</td>\n",
       "      <td>0.0</td>\n",
       "      <td>186.761490</td>\n",
       "      <td>227.297028</td>\n",
       "      <td>0.090104</td>\n",
       "      <td>0.0</td>\n",
       "      <td>2</td>\n",
       "    </tr>\n",
       "    <tr>\n",
       "      <th>3</th>\n",
       "      <td>0.044538</td>\n",
       "      <td>0.0</td>\n",
       "      <td>117.531258</td>\n",
       "      <td>152.575165</td>\n",
       "      <td>0.044361</td>\n",
       "      <td>0.0</td>\n",
       "      <td>3</td>\n",
       "    </tr>\n",
       "    <tr>\n",
       "      <th>4</th>\n",
       "      <td>0.037773</td>\n",
       "      <td>0.0</td>\n",
       "      <td>105.155060</td>\n",
       "      <td>139.870132</td>\n",
       "      <td>0.037864</td>\n",
       "      <td>0.0</td>\n",
       "      <td>4</td>\n",
       "    </tr>\n",
       "    <tr>\n",
       "      <th>...</th>\n",
       "      <td>...</td>\n",
       "      <td>...</td>\n",
       "      <td>...</td>\n",
       "      <td>...</td>\n",
       "      <td>...</td>\n",
       "      <td>...</td>\n",
       "      <td>...</td>\n",
       "    </tr>\n",
       "    <tr>\n",
       "      <th>95</th>\n",
       "      <td>0.005272</td>\n",
       "      <td>0.0</td>\n",
       "      <td>41.635567</td>\n",
       "      <td>51.661785</td>\n",
       "      <td>0.005287</td>\n",
       "      <td>0.0</td>\n",
       "      <td>95</td>\n",
       "    </tr>\n",
       "    <tr>\n",
       "      <th>96</th>\n",
       "      <td>0.005244</td>\n",
       "      <td>0.0</td>\n",
       "      <td>41.329578</td>\n",
       "      <td>51.530647</td>\n",
       "      <td>0.005235</td>\n",
       "      <td>0.0</td>\n",
       "      <td>96</td>\n",
       "    </tr>\n",
       "    <tr>\n",
       "      <th>97</th>\n",
       "      <td>0.005250</td>\n",
       "      <td>0.0</td>\n",
       "      <td>41.282101</td>\n",
       "      <td>51.407307</td>\n",
       "      <td>0.005268</td>\n",
       "      <td>0.0</td>\n",
       "      <td>97</td>\n",
       "    </tr>\n",
       "    <tr>\n",
       "      <th>98</th>\n",
       "      <td>0.005236</td>\n",
       "      <td>0.0</td>\n",
       "      <td>41.435135</td>\n",
       "      <td>51.570694</td>\n",
       "      <td>0.005251</td>\n",
       "      <td>0.0</td>\n",
       "      <td>98</td>\n",
       "    </tr>\n",
       "    <tr>\n",
       "      <th>99</th>\n",
       "      <td>0.005246</td>\n",
       "      <td>0.0</td>\n",
       "      <td>41.417324</td>\n",
       "      <td>51.473019</td>\n",
       "      <td>0.005243</td>\n",
       "      <td>0.0</td>\n",
       "      <td>99</td>\n",
       "    </tr>\n",
       "  </tbody>\n",
       "</table>\n",
       "<p>100 rows × 7 columns</p>\n",
       "</div>"
      ],
      "text/plain": [
       "    train_loss  reg_loss         MAE        RMSE      Loss  RegLoss  epoch\n",
       "0     0.357693       0.0  493.871582  594.446594  0.357090      0.0      0\n",
       "1     0.207209       0.0  325.083527  390.094788  0.205816      0.0      1\n",
       "2     0.090446       0.0  186.761490  227.297028  0.090104      0.0      2\n",
       "3     0.044538       0.0  117.531258  152.575165  0.044361      0.0      3\n",
       "4     0.037773       0.0  105.155060  139.870132  0.037864      0.0      4\n",
       "..         ...       ...         ...         ...       ...      ...    ...\n",
       "95    0.005272       0.0   41.635567   51.661785  0.005287      0.0     95\n",
       "96    0.005244       0.0   41.329578   51.530647  0.005235      0.0     96\n",
       "97    0.005250       0.0   41.282101   51.407307  0.005268      0.0     97\n",
       "98    0.005236       0.0   41.435135   51.570694  0.005251      0.0     98\n",
       "99    0.005246       0.0   41.417324   51.473019  0.005243      0.0     99\n",
       "\n",
       "[100 rows x 7 columns]"
      ]
     },
     "execution_count": 17,
     "metadata": {},
     "output_type": "execute_result"
    }
   ],
   "source": [
    "model = NeuralProphet()\n",
    "model.fit(VNI)"
   ]
  },
  {
   "cell_type": "markdown",
   "id": "d80709f8-817a-4622-ac36-dfa9cba2ccc1",
   "metadata": {},
   "source": [
    "# Evaluate the Model"
   ]
  },
  {
   "cell_type": "code",
   "execution_count": 20,
   "id": "171c8b1a-2eb8-41a1-9d38-a81891e251ad",
   "metadata": {},
   "outputs": [
    {
     "name": "stderr",
     "output_type": "stream",
     "text": [
      "INFO - (NP.df_utils._infer_frequency) - Major frequency B corresponds to 97.893% of the data.\n",
      "INFO - (NP.df_utils._infer_frequency) - Defined frequency is equal to major frequency - B\n",
      "INFO - (NP.df_utils.return_df_in_original_format) - Returning df with no ID column\n",
      "INFO - (NP.df_utils._infer_frequency) - Major frequency B corresponds to 99.5% of the data.\n",
      "INFO - (NP.df_utils._infer_frequency) - Defined frequency is equal to major frequency - B\n",
      "INFO - (NP.df_utils._infer_frequency) - Major frequency B corresponds to 99.5% of the data.\n",
      "INFO - (NP.df_utils._infer_frequency) - Defined frequency is equal to major frequency - B\n"
     ]
    },
    {
     "data": {
      "application/vnd.jupyter.widget-view+json": {
       "model_id": "fde750aeb3d74daca9219a214b316589",
       "version_major": 2,
       "version_minor": 0
      },
      "text/plain": [
       "Predicting: |                                                                                    | 0/? [00:00<…"
      ]
     },
     "metadata": {},
     "output_type": "display_data"
    },
    {
     "name": "stderr",
     "output_type": "stream",
     "text": [
      "INFO - (NP.df_utils.return_df_in_original_format) - Returning df with no ID column\n",
      "INFO - (NP.df_utils._infer_frequency) - Major frequency B corresponds to 97.893% of the data.\n",
      "INFO - (NP.df_utils._infer_frequency) - Defined frequency is equal to major frequency - B\n",
      "INFO - (NP.df_utils._infer_frequency) - Major frequency B corresponds to 97.893% of the data.\n",
      "INFO - (NP.df_utils._infer_frequency) - Defined frequency is equal to major frequency - B\n"
     ]
    },
    {
     "data": {
      "application/vnd.jupyter.widget-view+json": {
       "model_id": "c194aad6ec664e4f8e04564459b4c2d4",
       "version_major": 2,
       "version_minor": 0
      },
      "text/plain": [
       "Predicting: |                                                                                    | 0/? [00:00<…"
      ]
     },
     "metadata": {},
     "output_type": "display_data"
    },
    {
     "name": "stderr",
     "output_type": "stream",
     "text": [
      "INFO - (NP.df_utils.return_df_in_original_format) - Returning df with no ID column\n"
     ]
    },
    {
     "data": {
      "image/png": "[encoded data removed]",
      "text/plain": [
       "<Figure size 640x480 with 1 Axes>"
      ]
     },
     "metadata": {},
     "output_type": "display_data"
    }
   ],
   "source": [
    "future = model.make_future_dataframe(VNI,periods=200)\n",
    "forecast = model.predict(future)\n",
    "actual_prediction=model.predict(VNI)\n",
    "plt.plot(actual_prediction['ds'],actual_prediction['yhat1'],label='Actual prediction',c='r')\n",
    "plt.plot(forecast['ds'],forecast['yhat1'],label='Future prediction',c='b')\n",
    "plt.plot(VNI['ds'],VNI['y'],label='Actual',c='g')\n",
    "plt.legend()\n",
    "plt.show()"
   ]
  },
  {
   "cell_type": "code",
   "execution_count": null,
   "id": "b5900374-5b8b-4cb2-b012-3c27cca542fe",
   "metadata": {},
   "outputs": [],
   "source": []
  }
 ],
 "metadata": {
  "kernelspec": {
   "display_name": "Python 3 (ipykernel)",
   "language": "python",
   "name": "python3"
  },
  "language_info": {
   "codemirror_mode": {
    "name": "ipython",
    "version": 3
   },
   "file_extension": ".py",
   "mimetype": "text/x-python",
   "name": "python",
   "nbconvert_exporter": "python",
   "pygments_lexer": "ipython3",
   "version": "3.11.7"
  }
 },
 "nbformat": 4,
 "nbformat_minor": 5
}
