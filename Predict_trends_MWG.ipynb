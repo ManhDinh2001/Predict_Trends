{
 "cells": [
  {
   "cell_type": "code",
   "execution_count": 1,
   "id": "4175e7c1-65b9-4fb0-849c-7ecdb7d75c51",
   "metadata": {},
   "outputs": [],
   "source": [
    "from neuralprophet import NeuralProphet"
   ]
  },
  {
   "cell_type": "code",
   "execution_count": 3,
   "id": "6a9102bb-ed1a-4395-b1f4-9fd8ab8d8e45",
   "metadata": {},
   "outputs": [],
   "source": [
    "from read_data_no_index import read_data\n",
    "import pandas as pd\n",
    "import matplotlib.pyplot as plt"
   ]
  },
  {
   "cell_type": "code",
   "execution_count": 5,
   "id": "eb499c92-a0b6-4d45-abe7-81bc45ceec37",
   "metadata": {},
   "outputs": [],
   "source": [
    "MWG=read_data('D:\\MWG.csv')"
   ]
  },
  {
   "cell_type": "code",
   "execution_count": 7,
   "id": "1b20e688-c8a6-4acd-894a-b8383a3ae098",
   "metadata": {},
   "outputs": [],
   "source": [
    "MWG=MWG[(MWG['Date'] >= '2018-01-01') & (MWG['Date'] <= '2024-06-21')]\n",
    "MWG=MWG[['Date','Close']]"
   ]
  },
  {
   "cell_type": "code",
   "execution_count": 9,
   "id": "6e4aa8a4-ea41-4dc7-8398-b8e71581a94f",
   "metadata": {},
   "outputs": [],
   "source": [
    "MWG.columns=['ds','y']"
   ]
  },
  {
   "cell_type": "markdown",
   "id": "08f01202-c0ce-43d9-a097-f91afea90842",
   "metadata": {},
   "source": [
    "# Train the Model"
   ]
  },
  {
   "cell_type": "code",
   "execution_count": 11,
   "id": "dabd72d3-3b74-473f-a4b7-b27f009b9041",
   "metadata": {},
   "outputs": [
    {
     "name": "stderr",
     "output_type": "stream",
     "text": [
      "WARNING - (NP.forecaster.fit) - When Global modeling with local normalization, metrics are displayed in normalized scale.\n",
      "INFO - (NP.df_utils._infer_frequency) - Major frequency B corresponds to 97.946% of the data.\n",
      "INFO - (NP.df_utils._infer_frequency) - Dataframe freq automatically defined as B\n",
      "INFO - (NP.config.init_data_params) - Setting normalization to global as only one dataframe provided for training.\n",
      "INFO - (NP.utils.set_auto_seasonalities) - Disabling daily seasonality. Run NeuralProphet with daily_seasonality=True to override this.\n",
      "INFO - (NP.config.set_auto_batch_epoch) - Auto-set batch_size to 32\n",
      "INFO - (NP.config.set_auto_batch_epoch) - Auto-set epochs to 100\n"
     ]
    },
    {
     "data": {
      "application/vnd.jupyter.widget-view+json": {
       "model_id": "3f0e5260363a4c0ba1f343375e6756ac",
       "version_major": 2,
       "version_minor": 0
      },
      "text/plain": [
       "Training: |                                                                                      | 0/? [00:00<…"
      ]
     },
     "metadata": {},
     "output_type": "display_data"
    },
    {
     "name": "stderr",
     "output_type": "stream",
     "text": [
      "WARNING - (NP.config.set_lr_finder_args) - Learning rate finder: The number of batches (51) is too small than the required number                     for the learning rate finder (230). The results might not be optimal.\n"
     ]
    },
    {
     "data": {
      "application/vnd.jupyter.widget-view+json": {
       "model_id": "7bfb8ef8735b474fb6131b84ec7d62f0",
       "version_major": 2,
       "version_minor": 0
      },
      "text/plain": [
       "Finding best initial lr:   0%|          | 0/230 [00:00<?, ?it/s]"
      ]
     },
     "metadata": {},
     "output_type": "display_data"
    },
    {
     "name": "stderr",
     "output_type": "stream",
     "text": [
      "WARNING - (py.warnings._showwarnmsg) - D:\\Anaconda\\Lib\\site-packages\\pytorch_lightning\\utilities\\data.py:78: Trying to infer the `batch_size` from an ambiguous collection. The batch size we found is 32. To avoid any miscalculations, use `self.log(..., batch_size=batch_size)`.\n",
      "\n",
      "WARNING - (py.warnings._showwarnmsg) - D:\\Anaconda\\Lib\\site-packages\\pytorch_lightning\\utilities\\data.py:78: Trying to infer the `batch_size` from an ambiguous collection. The batch size we found is 7. To avoid any miscalculations, use `self.log(..., batch_size=batch_size)`.\n",
      "\n"
     ]
    },
    {
     "data": {
      "application/vnd.jupyter.widget-view+json": {
       "model_id": "b2a8940657214277b91de381af8ada2a",
       "version_major": 2,
       "version_minor": 0
      },
      "text/plain": [
       "Training: |                                                                                      | 0/? [00:00<…"
      ]
     },
     "metadata": {},
     "output_type": "display_data"
    },
    {
     "data": {
      "text/html": [
       "<div>\n",
       "<style scoped>\n",
       "    .dataframe tbody tr th:only-of-type {\n",
       "        vertical-align: middle;\n",
       "    }\n",
       "\n",
       "    .dataframe tbody tr th {\n",
       "        vertical-align: top;\n",
       "    }\n",
       "\n",
       "    .dataframe thead th {\n",
       "        text-align: right;\n",
       "    }\n",
       "</style>\n",
       "<table border=\"1\" class=\"dataframe\">\n",
       "  <thead>\n",
       "    <tr style=\"text-align: right;\">\n",
       "      <th></th>\n",
       "      <th>train_loss</th>\n",
       "      <th>reg_loss</th>\n",
       "      <th>MAE</th>\n",
       "      <th>RMSE</th>\n",
       "      <th>Loss</th>\n",
       "      <th>RegLoss</th>\n",
       "      <th>epoch</th>\n",
       "    </tr>\n",
       "  </thead>\n",
       "  <tbody>\n",
       "    <tr>\n",
       "      <th>0</th>\n",
       "      <td>0.484621</td>\n",
       "      <td>0.0</td>\n",
       "      <td>39486.597656</td>\n",
       "      <td>48972.328125</td>\n",
       "      <td>0.485267</td>\n",
       "      <td>0.0</td>\n",
       "      <td>0</td>\n",
       "    </tr>\n",
       "    <tr>\n",
       "      <th>1</th>\n",
       "      <td>0.287842</td>\n",
       "      <td>0.0</td>\n",
       "      <td>25544.722656</td>\n",
       "      <td>32307.583984</td>\n",
       "      <td>0.285465</td>\n",
       "      <td>0.0</td>\n",
       "      <td>1</td>\n",
       "    </tr>\n",
       "    <tr>\n",
       "      <th>2</th>\n",
       "      <td>0.136520</td>\n",
       "      <td>0.0</td>\n",
       "      <td>15174.097656</td>\n",
       "      <td>18567.593750</td>\n",
       "      <td>0.135701</td>\n",
       "      <td>0.0</td>\n",
       "      <td>2</td>\n",
       "    </tr>\n",
       "    <tr>\n",
       "      <th>3</th>\n",
       "      <td>0.059380</td>\n",
       "      <td>0.0</td>\n",
       "      <td>8962.097656</td>\n",
       "      <td>10860.433594</td>\n",
       "      <td>0.058818</td>\n",
       "      <td>0.0</td>\n",
       "      <td>3</td>\n",
       "    </tr>\n",
       "    <tr>\n",
       "      <th>4</th>\n",
       "      <td>0.046318</td>\n",
       "      <td>0.0</td>\n",
       "      <td>7498.166016</td>\n",
       "      <td>9338.174805</td>\n",
       "      <td>0.046214</td>\n",
       "      <td>0.0</td>\n",
       "      <td>4</td>\n",
       "    </tr>\n",
       "    <tr>\n",
       "      <th>...</th>\n",
       "      <td>...</td>\n",
       "      <td>...</td>\n",
       "      <td>...</td>\n",
       "      <td>...</td>\n",
       "      <td>...</td>\n",
       "      <td>...</td>\n",
       "      <td>...</td>\n",
       "    </tr>\n",
       "    <tr>\n",
       "      <th>95</th>\n",
       "      <td>0.013686</td>\n",
       "      <td>0.0</td>\n",
       "      <td>3676.890625</td>\n",
       "      <td>4752.202148</td>\n",
       "      <td>0.013532</td>\n",
       "      <td>0.0</td>\n",
       "      <td>95</td>\n",
       "    </tr>\n",
       "    <tr>\n",
       "      <th>96</th>\n",
       "      <td>0.013682</td>\n",
       "      <td>0.0</td>\n",
       "      <td>3691.931641</td>\n",
       "      <td>4787.623047</td>\n",
       "      <td>0.013652</td>\n",
       "      <td>0.0</td>\n",
       "      <td>96</td>\n",
       "    </tr>\n",
       "    <tr>\n",
       "      <th>97</th>\n",
       "      <td>0.013702</td>\n",
       "      <td>0.0</td>\n",
       "      <td>3709.200684</td>\n",
       "      <td>4779.912598</td>\n",
       "      <td>0.013621</td>\n",
       "      <td>0.0</td>\n",
       "      <td>97</td>\n",
       "    </tr>\n",
       "    <tr>\n",
       "      <th>98</th>\n",
       "      <td>0.013676</td>\n",
       "      <td>0.0</td>\n",
       "      <td>3691.171631</td>\n",
       "      <td>4761.262695</td>\n",
       "      <td>0.013532</td>\n",
       "      <td>0.0</td>\n",
       "      <td>98</td>\n",
       "    </tr>\n",
       "    <tr>\n",
       "      <th>99</th>\n",
       "      <td>0.013669</td>\n",
       "      <td>0.0</td>\n",
       "      <td>3704.143311</td>\n",
       "      <td>4765.031738</td>\n",
       "      <td>0.013594</td>\n",
       "      <td>0.0</td>\n",
       "      <td>99</td>\n",
       "    </tr>\n",
       "  </tbody>\n",
       "</table>\n",
       "<p>100 rows × 7 columns</p>\n",
       "</div>"
      ],
      "text/plain": [
       "    train_loss  reg_loss           MAE          RMSE      Loss  RegLoss  epoch\n",
       "0     0.484621       0.0  39486.597656  48972.328125  0.485267      0.0      0\n",
       "1     0.287842       0.0  25544.722656  32307.583984  0.285465      0.0      1\n",
       "2     0.136520       0.0  15174.097656  18567.593750  0.135701      0.0      2\n",
       "3     0.059380       0.0   8962.097656  10860.433594  0.058818      0.0      3\n",
       "4     0.046318       0.0   7498.166016   9338.174805  0.046214      0.0      4\n",
       "..         ...       ...           ...           ...       ...      ...    ...\n",
       "95    0.013686       0.0   3676.890625   4752.202148  0.013532      0.0     95\n",
       "96    0.013682       0.0   3691.931641   4787.623047  0.013652      0.0     96\n",
       "97    0.013702       0.0   3709.200684   4779.912598  0.013621      0.0     97\n",
       "98    0.013676       0.0   3691.171631   4761.262695  0.013532      0.0     98\n",
       "99    0.013669       0.0   3704.143311   4765.031738  0.013594      0.0     99\n",
       "\n",
       "[100 rows x 7 columns]"
      ]
     },
     "execution_count": 11,
     "metadata": {},
     "output_type": "execute_result"
    }
   ],
   "source": [
    "model = NeuralProphet()\n",
    "model.fit(MWG)"
   ]
  },
  {
   "cell_type": "markdown",
   "id": "d80709f8-817a-4622-ac36-dfa9cba2ccc1",
   "metadata": {},
   "source": [
    "# Evaluate the Model"
   ]
  },
  {
   "cell_type": "code",
   "execution_count": 13,
   "id": "171c8b1a-2eb8-41a1-9d38-a81891e251ad",
   "metadata": {},
   "outputs": [
    {
     "name": "stderr",
     "output_type": "stream",
     "text": [
      "INFO - (NP.df_utils._infer_frequency) - Major frequency B corresponds to 97.946% of the data.\n",
      "INFO - (NP.df_utils._infer_frequency) - Defined frequency is equal to major frequency - B\n",
      "INFO - (NP.df_utils.return_df_in_original_format) - Returning df with no ID column\n",
      "INFO - (NP.df_utils._infer_frequency) - Major frequency B corresponds to 99.5% of the data.\n",
      "INFO - (NP.df_utils._infer_frequency) - Defined frequency is equal to major frequency - B\n",
      "INFO - (NP.df_utils._infer_frequency) - Major frequency B corresponds to 99.5% of the data.\n",
      "INFO - (NP.df_utils._infer_frequency) - Defined frequency is equal to major frequency - B\n"
     ]
    },
    {
     "data": {
      "application/vnd.jupyter.widget-view+json": {
       "model_id": "0bad6b34dd504cc489e12a8301137878",
       "version_major": 2,
       "version_minor": 0
      },
      "text/plain": [
       "Predicting: |                                                                                    | 0/? [00:00<…"
      ]
     },
     "metadata": {},
     "output_type": "display_data"
    },
    {
     "name": "stderr",
     "output_type": "stream",
     "text": [
      "INFO - (NP.df_utils.return_df_in_original_format) - Returning df with no ID column\n",
      "INFO - (NP.df_utils._infer_frequency) - Major frequency B corresponds to 97.946% of the data.\n",
      "INFO - (NP.df_utils._infer_frequency) - Defined frequency is equal to major frequency - B\n",
      "INFO - (NP.df_utils._infer_frequency) - Major frequency B corresponds to 97.946% of the data.\n",
      "INFO - (NP.df_utils._infer_frequency) - Defined frequency is equal to major frequency - B\n"
     ]
    },
    {
     "data": {
      "application/vnd.jupyter.widget-view+json": {
       "model_id": "95b50a9598df434b9f2913bc92e10ab5",
       "version_major": 2,
       "version_minor": 0
      },
      "text/plain": [
       "Predicting: |                                                                                    | 0/? [00:00<…"
      ]
     },
     "metadata": {},
     "output_type": "display_data"
    },
    {
     "name": "stderr",
     "output_type": "stream",
     "text": [
      "INFO - (NP.df_utils.return_df_in_original_format) - Returning df with no ID column\n"
     ]
    },
    {
     "data": {
      "image/png": "[encoded data removed]",
      "text/plain": [
       "<Figure size 640x480 with 1 Axes>"
      ]
     },
     "metadata": {},
     "output_type": "display_data"
    }
   ],
   "source": [
    "future = model.make_future_dataframe(MWG,periods=200)\n",
    "forecast = model.predict(future)\n",
    "actual_prediction=model.predict(MWG)\n",
    "plt.plot(actual_prediction['ds'],actual_prediction['yhat1'],label='Actual prediction',c='r')\n",
    "plt.plot(forecast['ds'],forecast['yhat1'],label='Future prediction',c='b')\n",
    "plt.plot(MWG['ds'],MWG['y'],label='Actual',c='g')\n",
    "plt.legend()\n",
    "plt.show()"
   ]
  }
 ],
 "metadata": {
  "kernelspec": {
   "display_name": "Python 3 (ipykernel)",
   "language": "python",
   "name": "python3"
  },
  "language_info": {
   "codemirror_mode": {
    "name": "ipython",
    "version": 3
   },
   "file_extension": ".py",
   "mimetype": "text/x-python",
   "name": "python",
   "nbconvert_exporter": "python",
   "pygments_lexer": "ipython3",
   "version": "3.11.7"
  }
 },
 "nbformat": 4,
 "nbformat_minor": 5
}
